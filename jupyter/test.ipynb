{
 "cells": [
  {
   "cell_type": "markdown",
   "id": "9d07f3c8",
   "metadata": {},
   "source": [
    "# This is a Test\n",
    "\n",
    "I am writing here in markdown. Below is code that is executed by connecting to a Stata kernel. \n"
   ]
  },
  {
   "cell_type": "code",
   "execution_count": 1,
   "id": "fb461010-a038-4ef4-a48b-beae4f770e2d",
   "metadata": {},
   "outputs": [
    {
     "name": "stdout",
     "output_type": "stream",
     "text": [
      "\n",
      "this is a test\n",
      "\n",
      "version 19.5\n",
      "\n",
      "(1978 automobile data)\n",
      "\n",
      "\n",
      "Contains data from C:\\Program Files\\StataNow19\\ado\\base/a/auto.dta\n",
      " Observations:            74                  1978 automobile data\n",
      "    Variables:            12                  13 Apr 2024 17:45\n",
      "                                              (_dta has notes)\n",
      "--------------------------------------------------------------------------------\n",
      "Variable      Storage   Display    Value\n",
      "    name         type    format    label      Variable label\n",
      "--------------------------------------------------------------------------------\n",
      "make            str18   %-18s                 Make and model\n",
      "price           int     %8.0gc                Price\n",
      "mpg             int     %8.0g                 Mileage (mpg)\n",
      "rep78           int     %8.0g                 Repair record 1978\n",
      "headroom        float   %6.1f                 Headroom (in.)\n",
      "trunk           int     %8.0g                 Trunk space (cu. ft.)\n",
      "weight          int     %8.0gc                Weight (lbs.)\n",
      "length          int     %8.0g                 Length (in.)\n",
      "turn            int     %8.0g                 Turn circle (ft.)\n",
      "displacement    int     %8.0g                 Displacement (cu. in.)\n",
      "gear_ratio      float   %6.2f                 Gear ratio\n",
      "foreign         byte    %8.0g      origin     Car origin\n",
      "--------------------------------------------------------------------------------\n",
      "Sorted by: foreign\n"
     ]
    }
   ],
   "source": [
    "di \"this is a test\"\n",
    "\n",
    "version \n",
    "\n",
    "sysuse auto, clear \n",
    "\n",
    "describe"
   ]
  },
  {
   "cell_type": "code",
   "execution_count": 2,
   "id": "db2a9670",
   "metadata": {},
   "outputs": [
    {
     "name": "stdout",
     "output_type": "stream",
     "text": [
      "\n",
      "    Make and model |      Freq.     Percent        Cum.\n",
      "-------------------+-----------------------------------\n",
      "       AMC Concord |          1        1.35        1.35\n",
      "         AMC Pacer |          1        1.35        2.70\n",
      "        AMC Spirit |          1        1.35        4.05\n",
      "         Audi 5000 |          1        1.35        5.41\n",
      "          Audi Fox |          1        1.35        6.76\n",
      "          BMW 320i |          1        1.35        8.11\n",
      "     Buick Century |          1        1.35        9.46\n",
      "     Buick Electra |          1        1.35       10.81\n",
      "     Buick LeSabre |          1        1.35       12.16\n",
      "        Buick Opel |          1        1.35       13.51\n",
      "       Buick Regal |          1        1.35       14.86\n",
      "     Buick Riviera |          1        1.35       16.22\n",
      "     Buick Skylark |          1        1.35       17.57\n",
      "      Cad. Deville |          1        1.35       18.92\n",
      "     Cad. Eldorado |          1        1.35       20.27\n",
      "      Cad. Seville |          1        1.35       21.62\n",
      "    Chev. Chevette |          1        1.35       22.97\n",
      "      Chev. Impala |          1        1.35       24.32\n",
      "      Chev. Malibu |          1        1.35       25.68\n",
      " Chev. Monte Carlo |          1        1.35       27.03\n",
      "       Chev. Monza |          1        1.35       28.38\n",
      "        Chev. Nova |          1        1.35       29.73\n",
      "        Datsun 200 |          1        1.35       31.08\n",
      "        Datsun 210 |          1        1.35       32.43\n",
      "        Datsun 510 |          1        1.35       33.78\n",
      "        Datsun 810 |          1        1.35       35.14\n",
      "        Dodge Colt |          1        1.35       36.49\n",
      "    Dodge Diplomat |          1        1.35       37.84\n",
      "      Dodge Magnum |          1        1.35       39.19\n",
      "   Dodge St. Regis |          1        1.35       40.54\n",
      "       Fiat Strada |          1        1.35       41.89\n",
      "       Ford Fiesta |          1        1.35       43.24\n",
      "      Ford Mustang |          1        1.35       44.59\n",
      "      Honda Accord |          1        1.35       45.95\n",
      "       Honda Civic |          1        1.35       47.30\n",
      " Linc. Continental |          1        1.35       48.65\n",
      "      Linc. Mark V |          1        1.35       50.00\n",
      "  Linc. Versailles |          1        1.35       51.35\n",
      "         Mazda GLC |          1        1.35       52.70\n",
      "      Merc. Bobcat |          1        1.35       54.05\n",
      "      Merc. Cougar |          1        1.35       55.41\n",
      "     Merc. Marquis |          1        1.35       56.76\n",
      "     Merc. Monarch |          1        1.35       58.11\n",
      "        Merc. XR-7 |          1        1.35       59.46\n",
      "      Merc. Zephyr |          1        1.35       60.81\n",
      "           Olds 98 |          1        1.35       62.16\n",
      "    Olds Cutl Supr |          1        1.35       63.51\n",
      "      Olds Cutlass |          1        1.35       64.86\n",
      "     Olds Delta 88 |          1        1.35       66.22\n",
      "        Olds Omega |          1        1.35       67.57\n",
      "     Olds Starfire |          1        1.35       68.92\n",
      "     Olds Toronado |          1        1.35       70.27\n",
      "       Peugeot 604 |          1        1.35       71.62\n",
      "       Plym. Arrow |          1        1.35       72.97\n",
      "       Plym. Champ |          1        1.35       74.32\n",
      "     Plym. Horizon |          1        1.35       75.68\n",
      "     Plym. Sapporo |          1        1.35       77.03\n",
      "      Plym. Volare |          1        1.35       78.38\n",
      "    Pont. Catalina |          1        1.35       79.73\n",
      "    Pont. Firebird |          1        1.35       81.08\n",
      "  Pont. Grand Prix |          1        1.35       82.43\n",
      "     Pont. Le Mans |          1        1.35       83.78\n",
      "     Pont. Phoenix |          1        1.35       85.14\n",
      "     Pont. Sunbird |          1        1.35       86.49\n",
      "    Renault Le Car |          1        1.35       87.84\n",
      "            Subaru |          1        1.35       89.19\n",
      "     Toyota Celica |          1        1.35       90.54\n",
      "    Toyota Corolla |          1        1.35       91.89\n",
      "     Toyota Corona |          1        1.35       93.24\n",
      "         VW Dasher |          1        1.35       94.59\n",
      "         VW Diesel |          1        1.35       95.95\n",
      "         VW Rabbit |          1        1.35       97.30\n",
      "       VW Scirocco |          1        1.35       98.65\n",
      "         Volvo 260 |          1        1.35      100.00\n",
      "-------------------+-----------------------------------\n",
      "             Total |         74      100.00\n"
     ]
    }
   ],
   "source": [
    "tab make,m "
   ]
  },
  {
   "cell_type": "code",
   "execution_count": 3,
   "id": "ff5e67df",
   "metadata": {},
   "outputs": [
    {
     "name": "stdout",
     "output_type": "stream",
     "text": [
      "\n",
      "                            Price\n",
      "-------------------------------------------------------------\n",
      "      Percentiles      Smallest\n",
      " 1%         3291           3291\n",
      " 5%         3748           3299\n",
      "10%         3895           3667       Obs                  74\n",
      "25%         4195           3748       Sum of wgt.          74\n",
      "\n",
      "50%       5006.5                      Mean           6165.257\n",
      "                        Largest       Std. dev.      2949.496\n",
      "75%         6342          13466\n",
      "90%        11385          13594       Variance        8699526\n",
      "95%        13466          14500       Skewness       1.653434\n",
      "99%        15906          15906       Kurtosis       4.819188\n"
     ]
    }
   ],
   "source": [
    "sum price, d"
   ]
  },
  {
   "cell_type": "code",
   "execution_count": null,
   "id": "f68ade59",
   "metadata": {},
   "outputs": [],
   "source": []
  }
 ],
 "metadata": {
  "kernelspec": {
   "display_name": "Stata",
   "language": "stata",
   "name": "stata"
  },
  "language_info": {
   "codemirror_mode": "stata",
   "file_extension": ".do",
   "mimetype": "text/x-stata",
   "name": "stata",
   "version": "15.1"
  }
 },
 "nbformat": 4,
 "nbformat_minor": 5
}
